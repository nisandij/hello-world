{
  "nbformat": 4,
  "nbformat_minor": 0,
  "metadata": {
    "colab": {
      "name": "Copy of Hello World in Machine Learning.ipynb",
      "provenance": [],
      "authorship_tag": "ABX9TyM7j3grpbHvoHUuWZM9JH82",
      "include_colab_link": true
    },
    "kernelspec": {
      "name": "python3",
      "display_name": "Python 3"
    }
  },
  "cells": [
    {
      "cell_type": "markdown",
      "metadata": {
        "id": "view-in-github",
        "colab_type": "text"
      },
      "source": [
        "<a href=\"https://colab.research.google.com/github/nisandij/hello-world/blob/master/Copy_of_Hello_World_in_Machine_Learning.ipynb\" target=\"_parent\"><img src=\"https://colab.research.google.com/assets/colab-badge.svg\" alt=\"Open In Colab\"/></a>"
      ]
    },
    {
      "cell_type": "markdown",
      "metadata": {
        "id": "l19ngPtIUfxI"
      },
      "source": [
        "Ayoob Sir's code is available on github\n",
        "link: https://github.com/Ayoob7/Regression-Template"
      ]
    },
    {
      "cell_type": "code",
      "metadata": {
        "colab": {
          "base_uri": "https://localhost:8080/"
        },
        "id": "5WMnI0TbuBuC",
        "outputId": "19a899cf-0849-4af2-d365-e7781af43548"
      },
      "source": [
        "import pandas as pd\n",
        "from sklearn.model_selection import train_test_split\n",
        "from sklearn import ensemble\n",
        "from sklearn.metrics import mean_absolute_error\n",
        "from sklearn.externals import joblib"
      ],
      "execution_count": null,
      "outputs": [
        {
          "output_type": "stream",
          "text": [
            "/usr/local/lib/python3.6/dist-packages/sklearn/externals/joblib/__init__.py:15: FutureWarning: sklearn.externals.joblib is deprecated in 0.21 and will be removed in 0.23. Please import this functionality directly from joblib, which can be installed with: pip install joblib. If this warning is raised when loading pickled models, you may need to re-serialize those models with scikit-learn 0.21+.\n",
            "  warnings.warn(msg, category=FutureWarning)\n"
          ],
          "name": "stderr"
        }
      ]
    },
    {
      "cell_type": "code",
      "metadata": {
        "id": "kTsDqinBuScW"
      },
      "source": [
        "# Load the data set\n",
        "url = 'https://raw.githubusercontent.com/Ayoob7/Regression-Template/master/ml_house_data_set.csv'\n",
        "df = pd.read_csv(url)"
      ],
      "execution_count": null,
      "outputs": []
    },
    {
      "cell_type": "code",
      "metadata": {
        "id": "ETG2Y4APY8oM"
      },
      "source": [
        "# Remove the fields from the data set that we don't want to include in our model\n",
        "del df['house_number']\n",
        "del df['unit_number']\n",
        "del df['street_name']\n",
        "del df['zip_code']\n"
      ],
      "execution_count": null,
      "outputs": []
    },
    {
      "cell_type": "code",
      "metadata": {
        "colab": {
          "base_uri": "https://localhost:8080/",
          "height": 266
        },
        "id": "ADQox0T4ZD6v",
        "outputId": "f6b3bd57-63ec-4920-d3a5-ba5de5aba8e5"
      },
      "source": [
        "df.head()"
      ],
      "execution_count": null,
      "outputs": [
        {
          "output_type": "execute_result",
          "data": {
            "text/html": [
              "<div>\n",
              "<style scoped>\n",
              "    .dataframe tbody tr th:only-of-type {\n",
              "        vertical-align: middle;\n",
              "    }\n",
              "\n",
              "    .dataframe tbody tr th {\n",
              "        vertical-align: top;\n",
              "    }\n",
              "\n",
              "    .dataframe thead th {\n",
              "        text-align: right;\n",
              "    }\n",
              "</style>\n",
              "<table border=\"1\" class=\"dataframe\">\n",
              "  <thead>\n",
              "    <tr style=\"text-align: right;\">\n",
              "      <th></th>\n",
              "      <th>year_built</th>\n",
              "      <th>stories</th>\n",
              "      <th>num_bedrooms</th>\n",
              "      <th>full_bathrooms</th>\n",
              "      <th>half_bathrooms</th>\n",
              "      <th>livable_sqft</th>\n",
              "      <th>total_sqft</th>\n",
              "      <th>garage_type</th>\n",
              "      <th>garage_sqft</th>\n",
              "      <th>carport_sqft</th>\n",
              "      <th>has_fireplace</th>\n",
              "      <th>has_pool</th>\n",
              "      <th>has_central_heating</th>\n",
              "      <th>has_central_cooling</th>\n",
              "      <th>city</th>\n",
              "      <th>sale_price</th>\n",
              "    </tr>\n",
              "  </thead>\n",
              "  <tbody>\n",
              "    <tr>\n",
              "      <th>0</th>\n",
              "      <td>1978</td>\n",
              "      <td>1</td>\n",
              "      <td>4</td>\n",
              "      <td>1</td>\n",
              "      <td>1</td>\n",
              "      <td>1689</td>\n",
              "      <td>1859</td>\n",
              "      <td>attached</td>\n",
              "      <td>508</td>\n",
              "      <td>0</td>\n",
              "      <td>True</td>\n",
              "      <td>False</td>\n",
              "      <td>True</td>\n",
              "      <td>True</td>\n",
              "      <td>Hallfort</td>\n",
              "      <td>270897.0</td>\n",
              "    </tr>\n",
              "    <tr>\n",
              "      <th>1</th>\n",
              "      <td>1958</td>\n",
              "      <td>1</td>\n",
              "      <td>3</td>\n",
              "      <td>1</td>\n",
              "      <td>1</td>\n",
              "      <td>1984</td>\n",
              "      <td>2002</td>\n",
              "      <td>attached</td>\n",
              "      <td>462</td>\n",
              "      <td>0</td>\n",
              "      <td>True</td>\n",
              "      <td>False</td>\n",
              "      <td>True</td>\n",
              "      <td>True</td>\n",
              "      <td>Hallfort</td>\n",
              "      <td>302404.0</td>\n",
              "    </tr>\n",
              "    <tr>\n",
              "      <th>2</th>\n",
              "      <td>2002</td>\n",
              "      <td>1</td>\n",
              "      <td>3</td>\n",
              "      <td>2</td>\n",
              "      <td>0</td>\n",
              "      <td>1581</td>\n",
              "      <td>1578</td>\n",
              "      <td>none</td>\n",
              "      <td>0</td>\n",
              "      <td>625</td>\n",
              "      <td>False</td>\n",
              "      <td>False</td>\n",
              "      <td>True</td>\n",
              "      <td>True</td>\n",
              "      <td>Lake Christinaport</td>\n",
              "      <td>2519996.0</td>\n",
              "    </tr>\n",
              "    <tr>\n",
              "      <th>3</th>\n",
              "      <td>2004</td>\n",
              "      <td>1</td>\n",
              "      <td>4</td>\n",
              "      <td>2</td>\n",
              "      <td>0</td>\n",
              "      <td>1829</td>\n",
              "      <td>2277</td>\n",
              "      <td>attached</td>\n",
              "      <td>479</td>\n",
              "      <td>0</td>\n",
              "      <td>True</td>\n",
              "      <td>False</td>\n",
              "      <td>True</td>\n",
              "      <td>True</td>\n",
              "      <td>Lake Christinaport</td>\n",
              "      <td>197193.0</td>\n",
              "    </tr>\n",
              "    <tr>\n",
              "      <th>4</th>\n",
              "      <td>2006</td>\n",
              "      <td>1</td>\n",
              "      <td>4</td>\n",
              "      <td>2</td>\n",
              "      <td>0</td>\n",
              "      <td>1580</td>\n",
              "      <td>1749</td>\n",
              "      <td>attached</td>\n",
              "      <td>430</td>\n",
              "      <td>0</td>\n",
              "      <td>True</td>\n",
              "      <td>False</td>\n",
              "      <td>True</td>\n",
              "      <td>True</td>\n",
              "      <td>Lake Christinaport</td>\n",
              "      <td>207897.0</td>\n",
              "    </tr>\n",
              "  </tbody>\n",
              "</table>\n",
              "</div>"
            ],
            "text/plain": [
              "   year_built  stories  ...                city  sale_price\n",
              "0        1978        1  ...            Hallfort    270897.0\n",
              "1        1958        1  ...            Hallfort    302404.0\n",
              "2        2002        1  ...  Lake Christinaport   2519996.0\n",
              "3        2004        1  ...  Lake Christinaport    197193.0\n",
              "4        2006        1  ...  Lake Christinaport    207897.0\n",
              "\n",
              "[5 rows x 16 columns]"
            ]
          },
          "metadata": {
            "tags": []
          },
          "execution_count": 33
        }
      ]
    },
    {
      "cell_type": "code",
      "metadata": {
        "id": "VNHkKKxwZHS7"
      },
      "source": [
        "# Replace categorical data with one-hot encoded data\n",
        "features_df = pd.get_dummies(df, columns=['garage_type', 'city'])"
      ],
      "execution_count": null,
      "outputs": []
    },
    {
      "cell_type": "code",
      "metadata": {
        "id": "8kHhL6bpZbZ7"
      },
      "source": [
        "# Remove the sale price from the feature data\n",
        "del features_df['sale_price']"
      ],
      "execution_count": null,
      "outputs": []
    },
    {
      "cell_type": "code",
      "metadata": {
        "colab": {
          "base_uri": "https://localhost:8080/",
          "height": 232
        },
        "id": "23OxM3h8ZhVO",
        "outputId": "69fbabfc-6f07-41e0-e05f-322b5524f0ef"
      },
      "source": [
        "features_df.head()"
      ],
      "execution_count": null,
      "outputs": [
        {
          "output_type": "execute_result",
          "data": {
            "text/html": [
              "<div>\n",
              "<style scoped>\n",
              "    .dataframe tbody tr th:only-of-type {\n",
              "        vertical-align: middle;\n",
              "    }\n",
              "\n",
              "    .dataframe tbody tr th {\n",
              "        vertical-align: top;\n",
              "    }\n",
              "\n",
              "    .dataframe thead th {\n",
              "        text-align: right;\n",
              "    }\n",
              "</style>\n",
              "<table border=\"1\" class=\"dataframe\">\n",
              "  <thead>\n",
              "    <tr style=\"text-align: right;\">\n",
              "      <th></th>\n",
              "      <th>year_built</th>\n",
              "      <th>stories</th>\n",
              "      <th>num_bedrooms</th>\n",
              "      <th>full_bathrooms</th>\n",
              "      <th>half_bathrooms</th>\n",
              "      <th>livable_sqft</th>\n",
              "      <th>total_sqft</th>\n",
              "      <th>garage_sqft</th>\n",
              "      <th>carport_sqft</th>\n",
              "      <th>has_fireplace</th>\n",
              "      <th>has_pool</th>\n",
              "      <th>has_central_heating</th>\n",
              "      <th>has_central_cooling</th>\n",
              "      <th>garage_type_attached</th>\n",
              "      <th>garage_type_detached</th>\n",
              "      <th>garage_type_none</th>\n",
              "      <th>city_Amystad</th>\n",
              "      <th>city_Brownport</th>\n",
              "      <th>city_Chadstad</th>\n",
              "      <th>city_Clarkberg</th>\n",
              "      <th>city_Coletown</th>\n",
              "      <th>city_Davidfort</th>\n",
              "      <th>city_Davidtown</th>\n",
              "      <th>city_East Amychester</th>\n",
              "      <th>city_East Janiceville</th>\n",
              "      <th>city_East Justin</th>\n",
              "      <th>city_East Lucas</th>\n",
              "      <th>city_Fosterberg</th>\n",
              "      <th>city_Hallfort</th>\n",
              "      <th>city_Jeffreyhaven</th>\n",
              "      <th>city_Jenniferberg</th>\n",
              "      <th>city_Joshuafurt</th>\n",
              "      <th>city_Julieberg</th>\n",
              "      <th>city_Justinport</th>\n",
              "      <th>city_Lake Carolyn</th>\n",
              "      <th>city_Lake Christinaport</th>\n",
              "      <th>city_Lake Dariusborough</th>\n",
              "      <th>city_Lake Jack</th>\n",
              "      <th>city_Lake Jennifer</th>\n",
              "      <th>city_Leahview</th>\n",
              "      <th>city_Lewishaven</th>\n",
              "      <th>city_Martinezfort</th>\n",
              "      <th>city_Morrisport</th>\n",
              "      <th>city_New Michele</th>\n",
              "      <th>city_New Robinton</th>\n",
              "      <th>city_North Erinville</th>\n",
              "      <th>city_Port Adamtown</th>\n",
              "      <th>city_Port Andrealand</th>\n",
              "      <th>city_Port Daniel</th>\n",
              "      <th>city_Port Jonathanborough</th>\n",
              "      <th>city_Richardport</th>\n",
              "      <th>city_Rickytown</th>\n",
              "      <th>city_Scottberg</th>\n",
              "      <th>city_South Anthony</th>\n",
              "      <th>city_South Stevenfurt</th>\n",
              "      <th>city_Toddshire</th>\n",
              "      <th>city_Wendybury</th>\n",
              "      <th>city_West Ann</th>\n",
              "      <th>city_West Brittanyview</th>\n",
              "      <th>city_West Gerald</th>\n",
              "      <th>city_West Gregoryview</th>\n",
              "      <th>city_West Lydia</th>\n",
              "      <th>city_West Terrence</th>\n",
              "    </tr>\n",
              "  </thead>\n",
              "  <tbody>\n",
              "    <tr>\n",
              "      <th>0</th>\n",
              "      <td>1978</td>\n",
              "      <td>1</td>\n",
              "      <td>4</td>\n",
              "      <td>1</td>\n",
              "      <td>1</td>\n",
              "      <td>1689</td>\n",
              "      <td>1859</td>\n",
              "      <td>508</td>\n",
              "      <td>0</td>\n",
              "      <td>True</td>\n",
              "      <td>False</td>\n",
              "      <td>True</td>\n",
              "      <td>True</td>\n",
              "      <td>1</td>\n",
              "      <td>0</td>\n",
              "      <td>0</td>\n",
              "      <td>0</td>\n",
              "      <td>0</td>\n",
              "      <td>0</td>\n",
              "      <td>0</td>\n",
              "      <td>0</td>\n",
              "      <td>0</td>\n",
              "      <td>0</td>\n",
              "      <td>0</td>\n",
              "      <td>0</td>\n",
              "      <td>0</td>\n",
              "      <td>0</td>\n",
              "      <td>0</td>\n",
              "      <td>1</td>\n",
              "      <td>0</td>\n",
              "      <td>0</td>\n",
              "      <td>0</td>\n",
              "      <td>0</td>\n",
              "      <td>0</td>\n",
              "      <td>0</td>\n",
              "      <td>0</td>\n",
              "      <td>0</td>\n",
              "      <td>0</td>\n",
              "      <td>0</td>\n",
              "      <td>0</td>\n",
              "      <td>0</td>\n",
              "      <td>0</td>\n",
              "      <td>0</td>\n",
              "      <td>0</td>\n",
              "      <td>0</td>\n",
              "      <td>0</td>\n",
              "      <td>0</td>\n",
              "      <td>0</td>\n",
              "      <td>0</td>\n",
              "      <td>0</td>\n",
              "      <td>0</td>\n",
              "      <td>0</td>\n",
              "      <td>0</td>\n",
              "      <td>0</td>\n",
              "      <td>0</td>\n",
              "      <td>0</td>\n",
              "      <td>0</td>\n",
              "      <td>0</td>\n",
              "      <td>0</td>\n",
              "      <td>0</td>\n",
              "      <td>0</td>\n",
              "      <td>0</td>\n",
              "      <td>0</td>\n",
              "    </tr>\n",
              "    <tr>\n",
              "      <th>1</th>\n",
              "      <td>1958</td>\n",
              "      <td>1</td>\n",
              "      <td>3</td>\n",
              "      <td>1</td>\n",
              "      <td>1</td>\n",
              "      <td>1984</td>\n",
              "      <td>2002</td>\n",
              "      <td>462</td>\n",
              "      <td>0</td>\n",
              "      <td>True</td>\n",
              "      <td>False</td>\n",
              "      <td>True</td>\n",
              "      <td>True</td>\n",
              "      <td>1</td>\n",
              "      <td>0</td>\n",
              "      <td>0</td>\n",
              "      <td>0</td>\n",
              "      <td>0</td>\n",
              "      <td>0</td>\n",
              "      <td>0</td>\n",
              "      <td>0</td>\n",
              "      <td>0</td>\n",
              "      <td>0</td>\n",
              "      <td>0</td>\n",
              "      <td>0</td>\n",
              "      <td>0</td>\n",
              "      <td>0</td>\n",
              "      <td>0</td>\n",
              "      <td>1</td>\n",
              "      <td>0</td>\n",
              "      <td>0</td>\n",
              "      <td>0</td>\n",
              "      <td>0</td>\n",
              "      <td>0</td>\n",
              "      <td>0</td>\n",
              "      <td>0</td>\n",
              "      <td>0</td>\n",
              "      <td>0</td>\n",
              "      <td>0</td>\n",
              "      <td>0</td>\n",
              "      <td>0</td>\n",
              "      <td>0</td>\n",
              "      <td>0</td>\n",
              "      <td>0</td>\n",
              "      <td>0</td>\n",
              "      <td>0</td>\n",
              "      <td>0</td>\n",
              "      <td>0</td>\n",
              "      <td>0</td>\n",
              "      <td>0</td>\n",
              "      <td>0</td>\n",
              "      <td>0</td>\n",
              "      <td>0</td>\n",
              "      <td>0</td>\n",
              "      <td>0</td>\n",
              "      <td>0</td>\n",
              "      <td>0</td>\n",
              "      <td>0</td>\n",
              "      <td>0</td>\n",
              "      <td>0</td>\n",
              "      <td>0</td>\n",
              "      <td>0</td>\n",
              "      <td>0</td>\n",
              "    </tr>\n",
              "    <tr>\n",
              "      <th>2</th>\n",
              "      <td>2002</td>\n",
              "      <td>1</td>\n",
              "      <td>3</td>\n",
              "      <td>2</td>\n",
              "      <td>0</td>\n",
              "      <td>1581</td>\n",
              "      <td>1578</td>\n",
              "      <td>0</td>\n",
              "      <td>625</td>\n",
              "      <td>False</td>\n",
              "      <td>False</td>\n",
              "      <td>True</td>\n",
              "      <td>True</td>\n",
              "      <td>0</td>\n",
              "      <td>0</td>\n",
              "      <td>1</td>\n",
              "      <td>0</td>\n",
              "      <td>0</td>\n",
              "      <td>0</td>\n",
              "      <td>0</td>\n",
              "      <td>0</td>\n",
              "      <td>0</td>\n",
              "      <td>0</td>\n",
              "      <td>0</td>\n",
              "      <td>0</td>\n",
              "      <td>0</td>\n",
              "      <td>0</td>\n",
              "      <td>0</td>\n",
              "      <td>0</td>\n",
              "      <td>0</td>\n",
              "      <td>0</td>\n",
              "      <td>0</td>\n",
              "      <td>0</td>\n",
              "      <td>0</td>\n",
              "      <td>0</td>\n",
              "      <td>1</td>\n",
              "      <td>0</td>\n",
              "      <td>0</td>\n",
              "      <td>0</td>\n",
              "      <td>0</td>\n",
              "      <td>0</td>\n",
              "      <td>0</td>\n",
              "      <td>0</td>\n",
              "      <td>0</td>\n",
              "      <td>0</td>\n",
              "      <td>0</td>\n",
              "      <td>0</td>\n",
              "      <td>0</td>\n",
              "      <td>0</td>\n",
              "      <td>0</td>\n",
              "      <td>0</td>\n",
              "      <td>0</td>\n",
              "      <td>0</td>\n",
              "      <td>0</td>\n",
              "      <td>0</td>\n",
              "      <td>0</td>\n",
              "      <td>0</td>\n",
              "      <td>0</td>\n",
              "      <td>0</td>\n",
              "      <td>0</td>\n",
              "      <td>0</td>\n",
              "      <td>0</td>\n",
              "      <td>0</td>\n",
              "    </tr>\n",
              "    <tr>\n",
              "      <th>3</th>\n",
              "      <td>2004</td>\n",
              "      <td>1</td>\n",
              "      <td>4</td>\n",
              "      <td>2</td>\n",
              "      <td>0</td>\n",
              "      <td>1829</td>\n",
              "      <td>2277</td>\n",
              "      <td>479</td>\n",
              "      <td>0</td>\n",
              "      <td>True</td>\n",
              "      <td>False</td>\n",
              "      <td>True</td>\n",
              "      <td>True</td>\n",
              "      <td>1</td>\n",
              "      <td>0</td>\n",
              "      <td>0</td>\n",
              "      <td>0</td>\n",
              "      <td>0</td>\n",
              "      <td>0</td>\n",
              "      <td>0</td>\n",
              "      <td>0</td>\n",
              "      <td>0</td>\n",
              "      <td>0</td>\n",
              "      <td>0</td>\n",
              "      <td>0</td>\n",
              "      <td>0</td>\n",
              "      <td>0</td>\n",
              "      <td>0</td>\n",
              "      <td>0</td>\n",
              "      <td>0</td>\n",
              "      <td>0</td>\n",
              "      <td>0</td>\n",
              "      <td>0</td>\n",
              "      <td>0</td>\n",
              "      <td>0</td>\n",
              "      <td>1</td>\n",
              "      <td>0</td>\n",
              "      <td>0</td>\n",
              "      <td>0</td>\n",
              "      <td>0</td>\n",
              "      <td>0</td>\n",
              "      <td>0</td>\n",
              "      <td>0</td>\n",
              "      <td>0</td>\n",
              "      <td>0</td>\n",
              "      <td>0</td>\n",
              "      <td>0</td>\n",
              "      <td>0</td>\n",
              "      <td>0</td>\n",
              "      <td>0</td>\n",
              "      <td>0</td>\n",
              "      <td>0</td>\n",
              "      <td>0</td>\n",
              "      <td>0</td>\n",
              "      <td>0</td>\n",
              "      <td>0</td>\n",
              "      <td>0</td>\n",
              "      <td>0</td>\n",
              "      <td>0</td>\n",
              "      <td>0</td>\n",
              "      <td>0</td>\n",
              "      <td>0</td>\n",
              "      <td>0</td>\n",
              "    </tr>\n",
              "    <tr>\n",
              "      <th>4</th>\n",
              "      <td>2006</td>\n",
              "      <td>1</td>\n",
              "      <td>4</td>\n",
              "      <td>2</td>\n",
              "      <td>0</td>\n",
              "      <td>1580</td>\n",
              "      <td>1749</td>\n",
              "      <td>430</td>\n",
              "      <td>0</td>\n",
              "      <td>True</td>\n",
              "      <td>False</td>\n",
              "      <td>True</td>\n",
              "      <td>True</td>\n",
              "      <td>1</td>\n",
              "      <td>0</td>\n",
              "      <td>0</td>\n",
              "      <td>0</td>\n",
              "      <td>0</td>\n",
              "      <td>0</td>\n",
              "      <td>0</td>\n",
              "      <td>0</td>\n",
              "      <td>0</td>\n",
              "      <td>0</td>\n",
              "      <td>0</td>\n",
              "      <td>0</td>\n",
              "      <td>0</td>\n",
              "      <td>0</td>\n",
              "      <td>0</td>\n",
              "      <td>0</td>\n",
              "      <td>0</td>\n",
              "      <td>0</td>\n",
              "      <td>0</td>\n",
              "      <td>0</td>\n",
              "      <td>0</td>\n",
              "      <td>0</td>\n",
              "      <td>1</td>\n",
              "      <td>0</td>\n",
              "      <td>0</td>\n",
              "      <td>0</td>\n",
              "      <td>0</td>\n",
              "      <td>0</td>\n",
              "      <td>0</td>\n",
              "      <td>0</td>\n",
              "      <td>0</td>\n",
              "      <td>0</td>\n",
              "      <td>0</td>\n",
              "      <td>0</td>\n",
              "      <td>0</td>\n",
              "      <td>0</td>\n",
              "      <td>0</td>\n",
              "      <td>0</td>\n",
              "      <td>0</td>\n",
              "      <td>0</td>\n",
              "      <td>0</td>\n",
              "      <td>0</td>\n",
              "      <td>0</td>\n",
              "      <td>0</td>\n",
              "      <td>0</td>\n",
              "      <td>0</td>\n",
              "      <td>0</td>\n",
              "      <td>0</td>\n",
              "      <td>0</td>\n",
              "      <td>0</td>\n",
              "    </tr>\n",
              "  </tbody>\n",
              "</table>\n",
              "</div>"
            ],
            "text/plain": [
              "   year_built  stories  ...  city_West Lydia  city_West Terrence\n",
              "0        1978        1  ...                0                   0\n",
              "1        1958        1  ...                0                   0\n",
              "2        2002        1  ...                0                   0\n",
              "3        2004        1  ...                0                   0\n",
              "4        2006        1  ...                0                   0\n",
              "\n",
              "[5 rows x 63 columns]"
            ]
          },
          "metadata": {
            "tags": []
          },
          "execution_count": 41
        }
      ]
    },
    {
      "cell_type": "code",
      "metadata": {
        "id": "u3Xy3vigZw7q"
      },
      "source": [
        "# Create the X and y arrays\n",
        "X = features_df\n",
        "y = df['sale_price']\n"
      ],
      "execution_count": null,
      "outputs": []
    },
    {
      "cell_type": "code",
      "metadata": {
        "id": "XIDrHVyUZ15M"
      },
      "source": [
        "# Split the data set in a training set (70%) and a test set (30%)\n",
        "X_train, X_test, y_train, y_test = train_test_split(X, y, test_size=0.3, random_state=0)"
      ],
      "execution_count": null,
      "outputs": []
    },
    {
      "cell_type": "code",
      "metadata": {
        "colab": {
          "base_uri": "https://localhost:8080/"
        },
        "id": "3KoboiUpZ7Vp",
        "outputId": "214c0531-a7c3-4d97-f8ca-c80a90ddaca8"
      },
      "source": [
        "# Fit regression model\n",
        "model = ensemble.GradientBoostingRegressor(\n",
        "    n_estimators=1000,\n",
        "    learning_rate=0.1,\n",
        "    max_depth=6,\n",
        "    min_samples_leaf=9,\n",
        "    max_features=0.1,\n",
        "    loss='huber',\n",
        "    random_state=0\n",
        ")\n",
        "model.fit(X_train, y_train)"
      ],
      "execution_count": null,
      "outputs": [
        {
          "output_type": "execute_result",
          "data": {
            "text/plain": [
              "GradientBoostingRegressor(alpha=0.9, ccp_alpha=0.0, criterion='friedman_mse',\n",
              "                          init=None, learning_rate=0.1, loss='huber',\n",
              "                          max_depth=6, max_features=0.1, max_leaf_nodes=None,\n",
              "                          min_impurity_decrease=0.0, min_impurity_split=None,\n",
              "                          min_samples_leaf=9, min_samples_split=2,\n",
              "                          min_weight_fraction_leaf=0.0, n_estimators=1000,\n",
              "                          n_iter_no_change=None, presort='deprecated',\n",
              "                          random_state=0, subsample=1.0, tol=0.0001,\n",
              "                          validation_fraction=0.1, verbose=0, warm_start=False)"
            ]
          },
          "metadata": {
            "tags": []
          },
          "execution_count": 44
        }
      ]
    },
    {
      "cell_type": "code",
      "metadata": {
        "colab": {
          "base_uri": "https://localhost:8080/"
        },
        "id": "q_xLmZiBaie3",
        "outputId": "9c480f70-f8d7-43ac-99cf-06012e52c422"
      },
      "source": [
        "# Save the trained model to a file so we can use it in other programs\n",
        "joblib.dump(model, 'trained_house_classifier_model.pkl')"
      ],
      "execution_count": null,
      "outputs": [
        {
          "output_type": "execute_result",
          "data": {
            "text/plain": [
              "['trained_house_classifier_model.pkl']"
            ]
          },
          "metadata": {
            "tags": []
          },
          "execution_count": 45
        }
      ]
    },
    {
      "cell_type": "code",
      "metadata": {
        "colab": {
          "base_uri": "https://localhost:8080/"
        },
        "id": "At7UBdwYaoe5",
        "outputId": "fb1af958-8472-48f2-e5e4-b4002f62c383"
      },
      "source": [
        "# Find the error rate on the training set\n",
        "mse = mean_absolute_error(y_train, model.predict(X_train))\n",
        "print(\"Training Set Mean Absolute Error: %.4f\" % mse)"
      ],
      "execution_count": null,
      "outputs": [
        {
          "output_type": "stream",
          "text": [
            "Training Set Mean Absolute Error: 48727.0015\n"
          ],
          "name": "stdout"
        }
      ]
    },
    {
      "cell_type": "code",
      "metadata": {
        "colab": {
          "base_uri": "https://localhost:8080/"
        },
        "id": "c0zDHpNPatvL",
        "outputId": "d6bf9378-dbfa-41d4-8a1f-2f18accfb9cc"
      },
      "source": [
        "# Find the error rate on the test set\n",
        "mse = mean_absolute_error(y_test, model.predict(X_test))\n",
        "print(\"Test Set Mean Absolute Error: %.4f\" % mse)"
      ],
      "execution_count": null,
      "outputs": [
        {
          "output_type": "stream",
          "text": [
            "Test Set Mean Absolute Error: 59225.2075\n"
          ],
          "name": "stdout"
        }
      ]
    },
    {
      "cell_type": "code",
      "metadata": {
        "id": "B6YE7xNxa9yr"
      },
      "source": [
        "# Load the model we trained previously\n",
        "model = joblib.load('trained_house_classifier_model.pkl')"
      ],
      "execution_count": null,
      "outputs": []
    },
    {
      "cell_type": "code",
      "metadata": {
        "id": "iRfR5RnKbDYO"
      },
      "source": [
        "# For the house we want to value, we need to provide the features in the exact same\n",
        "# arrangement as our training data set.\n",
        "house_to_value = [\n",
        "    # House features\n",
        "    2006,   # year_built\n",
        "    1,      # stories\n",
        "    4,      # num_bedrooms\n",
        "    3,      # full_bathrooms\n",
        "    0,      # half_bathrooms \n",
        "    2200,   # livable_sqft\n",
        "    2350,   # total_sqft\n",
        "    0,      # garage_sqft\n",
        "    0,      # carport_sqft\n",
        "    True,   # has_fireplace\n",
        "    False,  # has_pool\n",
        "    True,   # has_central_heating\n",
        "    True,   # has_central_cooling\n",
        "    \n",
        "    # Garage type: Choose only one\n",
        "    0,      # attached\n",
        "    0,      # detached\n",
        "    1,      # none\n",
        "    \n",
        "    # City: Choose only one\n",
        "    0,      # Amystad\n",
        "    1,      # Brownport\n",
        "    0,      # Chadstad\n",
        "    0,      # Clarkberg\n",
        "    0,      # Coletown\n",
        "    0,      # Davidfort\n",
        "    0,      # Davidtown\n",
        "    0,      # East Amychester\n",
        "    0,      # East Janiceville\n",
        "    0,      # East Justin\n",
        "    0,      # East Lucas\n",
        "    0,      # Fosterberg\n",
        "    0,      # Hallfort\n",
        "    0,      # Jeffreyhaven\n",
        "    0,      # Jenniferberg\n",
        "    0,      # Joshuafurt\n",
        "    0,      # Julieberg\n",
        "    0,      # Justinport\n",
        "    0,      # Lake Carolyn\n",
        "    0,      # Lake Christinaport\n",
        "    0,      # Lake Dariusborough\n",
        "    0,      # Lake Jack\n",
        "    0,      # Lake Jennifer\n",
        "    0,      # Leahview\n",
        "    0,      # Lewishaven\n",
        "    0,      # Martinezfort\n",
        "    0,      # Morrisport\n",
        "    0,      # New Michele\n",
        "    0,      # New Robinton\n",
        "    0,      # North Erinville\n",
        "    0,      # Port Adamtown\n",
        "    0,      # Port Andrealand\n",
        "    0,      # Port Daniel\n",
        "    0,      # Port Jonathanborough\n",
        "    0,      # Richardport\n",
        "    0,      # Rickytown\n",
        "    0,      # Scottberg\n",
        "    0,      # South Anthony\n",
        "    0,      # South Stevenfurt\n",
        "    0,      # Toddshire\n",
        "    0,      # Wendybury\n",
        "    0,      # West Ann\n",
        "    0,      # West Brittanyview\n",
        "    0,      # West Gerald\n",
        "    0,      # West Gregoryview\n",
        "    0,      # West Lydia\n",
        "    0       # West Terrence\n",
        "]\n"
      ],
      "execution_count": null,
      "outputs": []
    },
    {
      "cell_type": "code",
      "metadata": {
        "id": "08rtTowabKYJ"
      },
      "source": [
        "# scikit-learn assumes you want to predict the values for lots of houses at once, so it expects an array.\n",
        "# We just want to look at a single house, so it will be the only item in our array.\n",
        "homes_to_value = [\n",
        "    house_to_value\n",
        "]\n"
      ],
      "execution_count": null,
      "outputs": []
    },
    {
      "cell_type": "code",
      "metadata": {
        "id": "SM66jf7ybQCa"
      },
      "source": [
        "# Run the model and make a prediction for each house in the homes_to_value array\n",
        "predicted_home_values = model.predict(homes_to_value)"
      ],
      "execution_count": null,
      "outputs": []
    },
    {
      "cell_type": "code",
      "metadata": {
        "id": "34mIu5xnbUPT"
      },
      "source": [
        "# Since we are only predicting the price of one house, just look at the first prediction returned\n",
        "predicted_value = predicted_home_values[0]\n"
      ],
      "execution_count": null,
      "outputs": []
    },
    {
      "cell_type": "code",
      "metadata": {
        "colab": {
          "base_uri": "https://localhost:8080/"
        },
        "id": "PqcV5-FMbZ9G",
        "outputId": "3efe0cd2-85c8-4188-ffdd-8e0519724288"
      },
      "source": [
        "print(\"This house has an estimated value of ${:,.2f}\".format(predicted_value))"
      ],
      "execution_count": null,
      "outputs": [
        {
          "output_type": "stream",
          "text": [
            "This house has an estimated value of $587,091.02\n"
          ],
          "name": "stdout"
        }
      ]
    }
  ]
}